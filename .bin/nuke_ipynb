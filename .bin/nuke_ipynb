#!/usr/bin/env bash

find . -name .ipynb_checkpoints | while read cache; do
    echo "Deleting: $cache"
    rm -rf $cache
done
